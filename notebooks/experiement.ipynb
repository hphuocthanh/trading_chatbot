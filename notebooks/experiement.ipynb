{
  "metadata": {
    "kernelspec": {
      "language": "python",
      "display_name": "Python 3",
      "name": "python3"
    },
    "language_info": {
      "name": "python",
      "version": "3.10.14",
      "mimetype": "text/x-python",
      "codemirror_mode": {
        "name": "ipython",
        "version": 3
      },
      "pygments_lexer": "ipython3",
      "nbconvert_exporter": "python",
      "file_extension": ".py"
    },
    "kaggle": {
      "accelerator": "none",
      "dataSources": [],
      "dockerImageVersionId": 30786,
      "isInternetEnabled": true,
      "language": "python",
      "sourceType": "notebook",
      "isGpuEnabled": false
    },
    "colab": {
      "provenance": []
    }
  },
  "nbformat_minor": 0,
  "nbformat": 4,
  "cells": [
    {
      "cell_type": "code",
      "source": [
        "!pip install -q llama-index>=0.10.68 llama-index-vector-stores-faiss>=0.1.2 faiss-cpu>=1.8.0.post1 llama-index-llms-openai>=0.1.31 llama-index-question-gen-openai>=0.1.3 openai>=1.43.0 llama-index-readers-wikipedia>=0.2.0 wikipedia nest_asyncio pydantic>=2.9.0b1 llama-parse>=0.5.1 cohere>=5.9.0 llama-index-postprocessor-cohere-rerank>=0.2.0 llama-index-agent-openai>=0.3.0"
      ],
      "metadata": {
        "trusted": true,
        "execution": {
          "iopub.status.busy": "2024-11-21T10:37:23.659379Z",
          "iopub.execute_input": "2024-11-21T10:37:23.659881Z",
          "iopub.status.idle": "2024-11-21T10:37:53.155622Z",
          "shell.execute_reply.started": "2024-11-21T10:37:23.659843Z",
          "shell.execute_reply": "2024-11-21T10:37:53.154396Z"
        },
        "id": "bp5oyBhLGCHp",
        "outputId": "bb8e5307-865c-4a60-d4f0-c72839e916c4"
      },
      "outputs": [
        {
          "name": "stdout",
          "text": "\u001b[31mERROR: pip's dependency resolver does not currently take into account all the packages that are installed. This behaviour is the source of the following dependency conflicts.\nkfp 2.5.0 requires google-cloud-storage<3,>=2.2.1, but you have google-cloud-storage 1.44.0 which is incompatible.\nkfp 2.5.0 requires urllib3<2.0.0, but you have urllib3 2.2.3 which is incompatible.\npreprocessing 0.1.13 requires nltk==3.2.4, but you have nltk 3.9.1 which is incompatible.\nydata-profiling 4.10.0 requires scipy<1.14,>=1.4.1, but you have scipy 1.14.1 which is incompatible.\u001b[0m\u001b[31m\n\u001b[0m",
          "output_type": "stream"
        }
      ],
      "execution_count": null
    },
    {
      "cell_type": "markdown",
      "source": [
        "# News Analyst Agent"
      ],
      "metadata": {
        "id": "1TLCHg7LGCHp"
      }
    },
    {
      "cell_type": "code",
      "source": [
        "!pip install gnews"
      ],
      "metadata": {
        "trusted": true,
        "execution": {
          "iopub.status.busy": "2024-11-21T10:37:53.158081Z",
          "iopub.execute_input": "2024-11-21T10:37:53.158475Z",
          "iopub.status.idle": "2024-11-21T10:38:05.988769Z",
          "shell.execute_reply.started": "2024-11-21T10:37:53.158435Z",
          "shell.execute_reply": "2024-11-21T10:38:05.987471Z"
        },
        "id": "uDHkD6KiGCHq",
        "outputId": "74bf5e42-0f86-4acd-e08c-09420509c1a1"
      },
      "outputs": [
        {
          "name": "stdout",
          "text": "Collecting gnews\n  Downloading gnews-0.3.9-py3-none-any.whl.metadata (19 kB)\nCollecting feedparser~=6.0.2 (from gnews)\n  Downloading feedparser-6.0.11-py3-none-any.whl.metadata (2.4 kB)\nRequirement already satisfied: beautifulsoup4<5,>=4.9.3 in /opt/conda/lib/python3.10/site-packages (from gnews) (4.12.3)\nRequirement already satisfied: dnspython in /opt/conda/lib/python3.10/site-packages (from gnews) (2.6.1)\nRequirement already satisfied: requests in /opt/conda/lib/python3.10/site-packages (from gnews) (2.32.3)\nRequirement already satisfied: soupsieve>1.2 in /opt/conda/lib/python3.10/site-packages (from beautifulsoup4<5,>=4.9.3->gnews) (2.5)\nCollecting sgmllib3k (from feedparser~=6.0.2->gnews)\n  Downloading sgmllib3k-1.0.0.tar.gz (5.8 kB)\n  Preparing metadata (setup.py) ... \u001b[?25ldone\n\u001b[?25hRequirement already satisfied: charset-normalizer<4,>=2 in /opt/conda/lib/python3.10/site-packages (from requests->gnews) (3.3.2)\nRequirement already satisfied: idna<4,>=2.5 in /opt/conda/lib/python3.10/site-packages (from requests->gnews) (3.7)\nRequirement already satisfied: urllib3<3,>=1.21.1 in /opt/conda/lib/python3.10/site-packages (from requests->gnews) (2.2.1)\nRequirement already satisfied: certifi>=2017.4.17 in /opt/conda/lib/python3.10/site-packages (from requests->gnews) (2024.8.30)\nDownloading gnews-0.3.9-py3-none-any.whl (17 kB)\nDownloading feedparser-6.0.11-py3-none-any.whl (81 kB)\n\u001b[2K   \u001b[90m━━━━━━━━━━━━━━━━━━━━━━━━━━━━━━━━━━━━━━━━\u001b[0m \u001b[32m81.3/81.3 kB\u001b[0m \u001b[31m2.4 MB/s\u001b[0m eta \u001b[36m0:00:00\u001b[0m\n\u001b[?25hBuilding wheels for collected packages: sgmllib3k\n  Building wheel for sgmllib3k (setup.py) ... \u001b[?25ldone\n\u001b[?25h  Created wheel for sgmllib3k: filename=sgmllib3k-1.0.0-py3-none-any.whl size=6049 sha256=4a1ad93c4185ad7730fcec5ebc74176e64ac494bca6f18cab2871d325646dd9f\n  Stored in directory: /root/.cache/pip/wheels/f0/69/93/a47e9d621be168e9e33c7ce60524393c0b92ae83cf6c6e89c5\nSuccessfully built sgmllib3k\nInstalling collected packages: sgmllib3k, feedparser, gnews\nSuccessfully installed feedparser-6.0.11 gnews-0.3.9 sgmllib3k-1.0.0\n",
          "output_type": "stream"
        }
      ],
      "execution_count": null
    },
    {
      "cell_type": "code",
      "source": [
        "from gnews import GNews\n",
        "\n",
        "google_news = GNews(max_results=20,period=\"3d\")\n",
        "btc_news = google_news.get_news('bitcoin')\n",
        "print(btc_news[:1])"
      ],
      "metadata": {
        "trusted": true,
        "execution": {
          "iopub.status.busy": "2024-11-21T10:38:05.990686Z",
          "iopub.execute_input": "2024-11-21T10:38:05.991205Z",
          "iopub.status.idle": "2024-11-21T10:38:13.32959Z",
          "shell.execute_reply.started": "2024-11-21T10:38:05.99115Z",
          "shell.execute_reply": "2024-11-21T10:38:13.328282Z"
        },
        "id": "k8Wx0Lp9GCHq",
        "outputId": "ac7eddbb-abcb-4b41-cc2a-c15ecda2b20e"
      },
      "outputs": [
        {
          "name": "stdout",
          "text": "[{'title': 'Bitcoin Climbs Closer to $100,000 on Trump’s Support for Crypto - Yahoo Finance', 'description': 'Bitcoin Climbs Closer to $100,000 on Trump’s Support for Crypto  Yahoo Finance', 'published date': 'Thu, 21 Nov 2024 08:49:54 GMT', 'url': 'https://news.google.com/rss/articles/CBMifEFVX3lxTFBLakhCcUlJdl81QjNKNFdWOEVrY05wX2NBd0pDZGNoVnp3ZTBSWjBGcENFVlRVdW1DOURQZG9IcVFoT3Y4NDhRcm92dlBhdmc0Q2Uxel80Wk01WkdUeVJFQjRpTmE3bVhrb2JFTjhyazAzYkdoWWdfZjg3QVA?oc=5&hl=en-US&gl=US&ceid=US:en', 'publisher': {'href': 'https://finance.yahoo.com', 'title': 'Yahoo Finance'}}]\n",
          "output_type": "stream"
        }
      ],
      "execution_count": null
    },
    {
      "cell_type": "code",
      "source": [
        "news_content = btc_news"
      ],
      "metadata": {
        "trusted": true,
        "id": "8S0Ha0JpGCHq"
      },
      "outputs": [],
      "execution_count": null
    },
    {
      "cell_type": "code",
      "source": [
        "import os\n",
        "os.environ[\"OPENAI_API_KEY\"] = \"sk-proj-\"\n"
      ],
      "metadata": {
        "trusted": true,
        "execution": {
          "iopub.status.busy": "2024-11-21T10:38:13.339074Z",
          "iopub.execute_input": "2024-11-21T10:38:13.339548Z",
          "iopub.status.idle": "2024-11-21T10:38:13.784357Z",
          "shell.execute_reply.started": "2024-11-21T10:38:13.339511Z",
          "shell.execute_reply": "2024-11-21T10:38:13.783233Z"
        },
        "id": "0oRkXvb4GCHq"
      },
      "outputs": [],
      "execution_count": null
    },
    {
      "cell_type": "code",
      "source": [
        "import openai\n",
        "\n",
        "def extract_news_titles_and_descriptions(news_data):\n",
        "    extracted_news = []\n",
        "    for news in news_data:\n",
        "        extracted_news.append({\n",
        "            'title': news['title'],\n",
        "            'description': news['description']\n",
        "        })\n",
        "    return extracted_news\n",
        "\n",
        "def analyze_news_and_market_trend(news_data):\n",
        "    # Extract news titles and descriptions\n",
        "    extracted_news = extract_news_titles_and_descriptions(news_data)\n",
        "\n",
        "    # Format the prompt with the extracted news\n",
        "    news_prompt = \"\\n\".join([\n",
        "        f\"Title: {news['title']}\\nContent: {news['description']}\" for news in extracted_news\n",
        "    ])\n",
        "\n",
        "    prompt_template = f\"\"\"\n",
        "    You are a cryptocurrency trading analyst. You are required to analyze the following news:\n",
        "\n",
        "    {news_prompt}\n",
        "\n",
        "    Analyze the news and estimate the market trend accordingly.\n",
        "    \"\"\"\n",
        "\n",
        "    # Use OpenAI API to get the response\n",
        "    response =  openai.chat.completions.create(\n",
        "        model=\"gpt-4o-mini\", temperature=0.0,\n",
        "        messages=[\n",
        "            {\"role\": \"system\", \"content\": \"You are a highly skilled cryptocurrency trading analyst.\"},\n",
        "            {\"role\": \"user\", \"content\": prompt_template}\n",
        "        ]\n",
        "    )\n",
        "    # print(response)\n",
        "    # Return the analysis\n",
        "    return response.choices[0].message\n",
        "\n"
      ],
      "metadata": {
        "trusted": true,
        "execution": {
          "iopub.status.busy": "2024-11-21T10:38:13.785787Z",
          "iopub.execute_input": "2024-11-21T10:38:13.786176Z",
          "iopub.status.idle": "2024-11-21T10:38:14.634899Z",
          "shell.execute_reply.started": "2024-11-21T10:38:13.786138Z",
          "shell.execute_reply": "2024-11-21T10:38:14.633659Z"
        },
        "id": "zqP0iiCNGCHq"
      },
      "outputs": [],
      "execution_count": null
    },
    {
      "cell_type": "code",
      "source": [
        "\n",
        "# Generate the market trend analysis\n",
        "market_analysis =  analyze_news_and_market_trend(btc_news[:5])\n",
        "print(market_analysis)"
      ],
      "metadata": {
        "trusted": true,
        "execution": {
          "iopub.status.busy": "2024-11-21T10:52:43.369252Z",
          "iopub.execute_input": "2024-11-21T10:52:43.369632Z",
          "iopub.status.idle": "2024-11-21T10:52:50.894157Z",
          "shell.execute_reply.started": "2024-11-21T10:52:43.369601Z",
          "shell.execute_reply": "2024-11-21T10:52:50.893156Z"
        },
        "id": "cfIbCSbpGCHq",
        "outputId": "1cd5ce72-d93c-44ae-baf3-98d8a4a1217f"
      },
      "outputs": [
        {
          "name": "stdout",
          "text": "ChatCompletionMessage(content='The news articles collectively indicate a significant bullish sentiment surrounding Bitcoin, primarily driven by the support of former President Donald Trump for cryptocurrency. Here’s a breakdown of the key points and their implications for market trends:\\n\\n1. **Price Movement**: \\n   - Bitcoin has recently broken through critical resistance levels, surpassing $96,000 and reaching new all-time highs above $97,000. This upward momentum suggests strong buying interest and market confidence.\\n\\n2. **Influence of Political Figures**: \\n   - The articles highlight Trump\\'s support for cryptocurrency as a catalyst for Bitcoin\\'s price surge. Political endorsements can have a substantial impact on market sentiment, especially in the cryptocurrency space, which is often influenced by public figures and their policies.\\n\\n3. **Market Sentiment**: \\n   - The repeated mention of optimism regarding Trump\\'s crypto plans indicates a positive market sentiment. Traders and investors may be reacting to the potential for favorable regulatory changes or increased adoption of cryptocurrencies if Trump were to implement supportive policies.\\n\\n4. **Speculative Nature**: \\n   - The term \"bombshell\" in one of the articles suggests that there may be speculative elements at play. Traders might be buying into the hype surrounding Trump\\'s potential influence, which can lead to increased volatility.\\n\\n5. **Psychological Levels**: \\n   - The approach to the $100,000 mark is significant as it represents a psychological barrier for many traders. The media coverage and public discussions around this milestone can further fuel buying interest, leading to a self-fulfilling prophecy where the price continues to rise as more investors enter the market.\\n\\n### Market Trend Estimation:\\n\\nGiven the current news and the factors outlined above, the market trend for Bitcoin appears to be strongly bullish in the short to medium term. Here are some key considerations:\\n\\n- **Short-Term Bullish Trend**: The immediate price action suggests that Bitcoin could continue to rise as it approaches the $100,000 mark, driven by both speculative trading and positive sentiment from Trump\\'s support.\\n  \\n- **Potential Volatility**: While the trend is bullish, traders should be cautious of potential volatility. Rapid price increases can lead to corrections, especially if profit-taking occurs or if there are any negative developments related to Trump\\'s plans or broader market conditions.\\n\\n- **Long-Term Considerations**: If Trump\\'s support translates into concrete policy changes that favor cryptocurrency, it could lead to sustained growth in the long term. However, if the support is merely rhetorical without actionable policies, the market may experience a pullback once the initial excitement fades.\\n\\n### Conclusion:\\n\\nIn summary, the news indicates a strong bullish trend for Bitcoin, with the potential to reach and possibly exceed the $100,000 mark in the near term. Traders should remain vigilant for signs of volatility and be prepared for potential corrections, while also considering the broader implications of political support for cryptocurrency.', refusal=None, role='assistant', audio=None, function_call=None, tool_calls=None)\n",
          "output_type": "stream"
        }
      ],
      "execution_count": null
    },
    {
      "cell_type": "code",
      "source": [
        "from IPython.display import Markdown, display\n"
      ],
      "metadata": {
        "trusted": true,
        "execution": {
          "iopub.status.busy": "2024-11-21T10:38:14.636366Z",
          "iopub.execute_input": "2024-11-21T10:38:14.636892Z",
          "iopub.status.idle": "2024-11-21T10:38:14.642386Z",
          "shell.execute_reply.started": "2024-11-21T10:38:14.636847Z",
          "shell.execute_reply": "2024-11-21T10:38:14.641059Z"
        },
        "id": "J8enFcFDGCHq"
      },
      "outputs": [],
      "execution_count": null
    },
    {
      "cell_type": "code",
      "source": [
        "display(Markdown(market_analysis.content))\n"
      ],
      "metadata": {
        "trusted": true,
        "execution": {
          "iopub.status.busy": "2024-11-21T10:52:50.895502Z",
          "iopub.execute_input": "2024-11-21T10:52:50.895772Z",
          "iopub.status.idle": "2024-11-21T10:52:50.902533Z",
          "shell.execute_reply.started": "2024-11-21T10:52:50.895744Z",
          "shell.execute_reply": "2024-11-21T10:52:50.901509Z"
        },
        "id": "ITRHP_AvGCHq",
        "outputId": "9e2f4f7d-aff1-4084-b818-e3b0df87d55b"
      },
      "outputs": [
        {
          "output_type": "display_data",
          "data": {
            "text/plain": "<IPython.core.display.Markdown object>",
            "text/markdown": "The news articles collectively indicate a significant bullish sentiment surrounding Bitcoin, primarily driven by the support of former President Donald Trump for cryptocurrency. Here’s a breakdown of the key points and their implications for market trends:\n\n1. **Price Movement**: \n   - Bitcoin has recently broken through critical resistance levels, surpassing $96,000 and reaching new all-time highs above $97,000. This upward momentum suggests strong buying interest and market confidence.\n\n2. **Influence of Political Figures**: \n   - The articles highlight Trump's support for cryptocurrency as a catalyst for Bitcoin's price surge. Political endorsements can have a substantial impact on market sentiment, especially in the cryptocurrency space, which is often influenced by public figures and their policies.\n\n3. **Market Sentiment**: \n   - The repeated mention of optimism regarding Trump's crypto plans indicates a positive market sentiment. Traders and investors may be reacting to the potential for favorable regulatory changes or increased adoption of cryptocurrencies if Trump were to implement supportive policies.\n\n4. **Speculative Nature**: \n   - The term \"bombshell\" in one of the articles suggests that there may be speculative elements at play. Traders might be buying into the hype surrounding Trump's potential influence, which can lead to increased volatility.\n\n5. **Psychological Levels**: \n   - The approach to the $100,000 mark is significant as it represents a psychological barrier for many traders. The media coverage and public discussions around this milestone can further fuel buying interest, leading to a self-fulfilling prophecy where the price continues to rise as more investors enter the market.\n\n### Market Trend Estimation:\n\nGiven the current news and the factors outlined above, the market trend for Bitcoin appears to be strongly bullish in the short to medium term. Here are some key considerations:\n\n- **Short-Term Bullish Trend**: The immediate price action suggests that Bitcoin could continue to rise as it approaches the $100,000 mark, driven by both speculative trading and positive sentiment from Trump's support.\n  \n- **Potential Volatility**: While the trend is bullish, traders should be cautious of potential volatility. Rapid price increases can lead to corrections, especially if profit-taking occurs or if there are any negative developments related to Trump's plans or broader market conditions.\n\n- **Long-Term Considerations**: If Trump's support translates into concrete policy changes that favor cryptocurrency, it could lead to sustained growth in the long term. However, if the support is merely rhetorical without actionable policies, the market may experience a pullback once the initial excitement fades.\n\n### Conclusion:\n\nIn summary, the news indicates a strong bullish trend for Bitcoin, with the potential to reach and possibly exceed the $100,000 mark in the near term. Traders should remain vigilant for signs of volatility and be prepared for potential corrections, while also considering the broader implications of political support for cryptocurrency."
          },
          "metadata": {}
        }
      ],
      "execution_count": null
    },
    {
      "cell_type": "code",
      "source": [
        " #This example uses Python 2.7 and the python-request library.\n",
        "\n",
        "from requests import Request, Session\n",
        "from requests.exceptions import ConnectionError, Timeout, TooManyRedirects\n",
        "import json\n",
        "\n",
        "url = 'https://pro-api.coinmarketcap.com/v1/cryptocurrency/quotes/latest'\n",
        "parameters = {\n",
        "  'convert':'AUD',\n",
        "    'slug': 'bitcoin'\n",
        "}\n",
        "headers = {\n",
        "  'Accepts': 'application/json',\n",
        "  'X-CMC_PRO_API_KEY': 'd568c2e4-9872-4ba4-8a2c-2bc6476d1e28',\n",
        "}\n",
        "\n",
        "session = Session()\n",
        "session.headers.update(headers)\n",
        "\n",
        "try:\n",
        "  response = session.get(url, params=parameters)\n",
        "  # Format JSON for pretty printing\n",
        "  info = json.loads(response.text)\n",
        "  formatted_json = json.dumps(info, indent=4)\n",
        "\n",
        "  # Display formatted JSON as Markdown for styling\n",
        "  markdown_text = f\"```json\\n{formatted_json}\\n```\"\n",
        "  display(Markdown(markdown_text))\n",
        "  # print(data)\n",
        "except (ConnectionError, Timeout, TooManyRedirects) as e:\n",
        "  print(e)"
      ],
      "metadata": {
        "trusted": true,
        "execution": {
          "iopub.status.busy": "2024-11-21T10:38:14.644588Z",
          "iopub.execute_input": "2024-11-21T10:38:14.644937Z",
          "iopub.status.idle": "2024-11-21T10:38:14.919764Z",
          "shell.execute_reply.started": "2024-11-21T10:38:14.644901Z",
          "shell.execute_reply": "2024-11-21T10:38:14.918672Z"
        },
        "id": "P7Gwr8vmGCHr",
        "outputId": "2065fee9-8f78-4e2e-8f94-607cf336fc86"
      },
      "outputs": [
        {
          "output_type": "display_data",
          "data": {
            "text/plain": "<IPython.core.display.Markdown object>",
            "text/markdown": "```json\n{\n    \"status\": {\n        \"timestamp\": \"2024-11-21T10:38:14.817Z\",\n        \"error_code\": 0,\n        \"error_message\": null,\n        \"elapsed\": 22,\n        \"credit_count\": 1,\n        \"notice\": null\n    },\n    \"data\": {\n        \"1\": {\n            \"id\": 1,\n            \"name\": \"Bitcoin\",\n            \"symbol\": \"BTC\",\n            \"slug\": \"bitcoin\",\n            \"num_market_pairs\": 11806,\n            \"date_added\": \"2010-07-13T00:00:00.000Z\",\n            \"tags\": [\n                \"mineable\",\n                \"pow\",\n                \"sha-256\",\n                \"store-of-value\",\n                \"state-channel\",\n                \"coinbase-ventures-portfolio\",\n                \"three-arrows-capital-portfolio\",\n                \"polychain-capital-portfolio\",\n                \"binance-labs-portfolio\",\n                \"blockchain-capital-portfolio\",\n                \"boostvc-portfolio\",\n                \"cms-holdings-portfolio\",\n                \"dcg-portfolio\",\n                \"dragonfly-capital-portfolio\",\n                \"electric-capital-portfolio\",\n                \"fabric-ventures-portfolio\",\n                \"framework-ventures-portfolio\",\n                \"galaxy-digital-portfolio\",\n                \"huobi-capital-portfolio\",\n                \"alameda-research-portfolio\",\n                \"a16z-portfolio\",\n                \"1confirmation-portfolio\",\n                \"winklevoss-capital-portfolio\",\n                \"usv-portfolio\",\n                \"placeholder-ventures-portfolio\",\n                \"pantera-capital-portfolio\",\n                \"multicoin-capital-portfolio\",\n                \"paradigm-portfolio\",\n                \"bitcoin-ecosystem\",\n                \"ftx-bankruptcy-estate\"\n            ],\n            \"max_supply\": 21000000,\n            \"circulating_supply\": 19785359,\n            \"total_supply\": 19785359,\n            \"is_active\": 1,\n            \"infinite_supply\": false,\n            \"platform\": null,\n            \"cmc_rank\": 1,\n            \"is_fiat\": 0,\n            \"self_reported_circulating_supply\": null,\n            \"self_reported_market_cap\": null,\n            \"tvl_ratio\": null,\n            \"last_updated\": \"2024-11-21T10:36:00.000Z\",\n            \"quote\": {\n                \"AUD\": {\n                    \"price\": 149791.40836709584,\n                    \"volume_24h\": 139781551592.62686,\n                    \"volume_change_24h\": 18.7968,\n                    \"percent_change_1h\": 0.1287454,\n                    \"percent_change_24h\": 4.401935,\n                    \"percent_change_7d\": 7.11747601,\n                    \"percent_change_30d\": 45.40248168,\n                    \"percent_change_60d\": 55.55725711,\n                    \"percent_change_90d\": 59.55952326,\n                    \"market_cap\": 2963676789658.595,\n                    \"market_cap_dominance\": 60.6286,\n                    \"fully_diluted_market_cap\": 3145619575709.0176,\n                    \"tvl\": null,\n                    \"last_updated\": \"2024-11-21T10:36:58.000Z\"\n                }\n            }\n        }\n    }\n}\n```"
          },
          "metadata": {}
        }
      ],
      "execution_count": null
    },
    {
      "cell_type": "code",
      "source": [
        "#  #This example uses Python 2.7 and the python-request library.\n",
        "\n",
        "# from requests import Request, Session\n",
        "# from requests.exceptions import ConnectionError, Timeout, TooManyRedirects\n",
        "# import json\n",
        "# from datetime import datetime, timedelta\n",
        "\n",
        "# # Calculate time_start (1 day ago) and time_end (now)\n",
        "# time_start = (datetime.now() - timedelta(days=1)).strftime(\"%Y-%m-%dT%H:%M:%S\")\n",
        "# time_end = datetime.now().strftime(\"%Y-%m-%dT%H:%M:%S\")\n",
        "\n",
        "# url = 'https://pro-api.coinmarketcap.com/v1/cryptocurrency/quotes/historical'\n",
        "# parameters = {\n",
        "#   'convert':'AUD',\n",
        "#     'slug': 'bitcoin',\n",
        "#     \"time_start\": time_start,\n",
        "#     \"time_end\": time_end,\n",
        "#     \"interval\": \"daily\",\n",
        "#     \"count\": 5\n",
        "# }\n",
        "# headers = {\n",
        "#   'Accepts': 'application/json',\n",
        "#   'X-CMC_PRO_API_KEY': 'd568c2e4-9872-4ba4-8a2c-2bc6476d1e28',\n",
        "# }\n",
        "\n",
        "# session = Session()\n",
        "# session.headers.update(headers)\n",
        "\n",
        "# try:\n",
        "#   response = session.get(url, params=parameters)\n",
        "#   # Format JSON for pretty printing\n",
        "#   info = json.loads(response.text)\n",
        "#   formatted_json = json.dumps(info, indent=4)\n",
        "\n",
        "#   # Display formatted JSON as Markdown for styling\n",
        "#   markdown_text = f\"```json\\n{formatted_json}\\n```\"\n",
        "#   display(Markdown(markdown_text))\n",
        "#   # print(data)\n",
        "# except (ConnectionError, Timeout, TooManyRedirects) as e:\n",
        "#   print(e)"
      ],
      "metadata": {
        "trusted": true,
        "execution": {
          "iopub.status.busy": "2024-11-21T04:48:01.397528Z",
          "iopub.execute_input": "2024-11-21T04:48:01.398169Z",
          "iopub.status.idle": "2024-11-21T04:48:02.038393Z",
          "shell.execute_reply.started": "2024-11-21T04:48:01.398119Z",
          "shell.execute_reply": "2024-11-21T04:48:02.037267Z"
        },
        "id": "QJF6ggySGCHr",
        "outputId": "6306bcac-1478-41c3-86b3-faa3a253ea6c"
      },
      "outputs": [
        {
          "output_type": "display_data",
          "data": {
            "text/plain": "<IPython.core.display.Markdown object>",
            "text/markdown": "```json\n{\n    \"status\": {\n        \"timestamp\": \"2024-11-21T04:48:01.923Z\",\n        \"error_code\": 1006,\n        \"error_message\": \"Your API Key subscription plan doesn't support this endpoint.\",\n        \"elapsed\": 0,\n        \"credit_count\": 0\n    }\n}\n```"
          },
          "metadata": {}
        }
      ],
      "execution_count": null
    },
    {
      "cell_type": "code",
      "source": [
        "# Extract BTC data in a format suitable for ETH market analysis\n",
        "btc_data = info[\"data\"][\"1\"][\"quote\"][\"AUD\"]\n",
        "\n",
        "# Structure the data for analysis\n",
        "btc_analysis_data = {\n",
        "    \"price\": btc_data[\"price\"],\n",
        "    \"volume_24h\": btc_data[\"volume_24h\"],\n",
        "    \"volume_change_24h\": btc_data[\"volume_change_24h\"],\n",
        "    \"percent_change_1h\": btc_data[\"percent_change_1h\"],\n",
        "    \"percent_change_24h\": btc_data[\"percent_change_24h\"],\n",
        "    \"percent_change_7d\": btc_data[\"percent_change_7d\"],\n",
        "    \"market_cap\": btc_data[\"market_cap\"],\n",
        "    \"market_cap_dominance\": btc_data[\"market_cap_dominance\"],\n",
        "    \"last_updated\": btc_data[\"last_updated\"]\n",
        "}"
      ],
      "metadata": {
        "trusted": true,
        "execution": {
          "iopub.status.busy": "2024-11-21T10:38:22.515302Z",
          "iopub.execute_input": "2024-11-21T10:38:22.515712Z",
          "iopub.status.idle": "2024-11-21T10:38:22.52264Z",
          "shell.execute_reply.started": "2024-11-21T10:38:22.515676Z",
          "shell.execute_reply": "2024-11-21T10:38:22.521157Z"
        },
        "id": "n3U1zH-GGCHr"
      },
      "outputs": [],
      "execution_count": null
    },
    {
      "cell_type": "code",
      "source": [
        "import openai\n",
        "\n",
        "def btc_market_analysis(btc_data):\n",
        "    # Define the prompt template\n",
        "    prompt_template = f\"\"\"\n",
        "    You are a Bitcoin (BTC) cryptocurrency trading analyst. Analyze the following information about Bitcoin (BTC):\n",
        "\n",
        "    **Bitcoin (BTC):**\n",
        "    Price: {btc_data['price']:.2f} AUD,\n",
        "    24h Volume: {btc_data['volume_24h']:.2f} AUD,\n",
        "    24h Volume Change: {btc_data['volume_change_24h']:.2f}%,\n",
        "    1h Percent Change: {btc_data['percent_change_1h']:.2f}%,\n",
        "    24h Percent Change: {btc_data['percent_change_24h']:.2f}%,\n",
        "    7d Percent Change: {btc_data['percent_change_7d']:.2f}%,\n",
        "    Market Cap: {btc_data['market_cap']:.2f} AUD,\n",
        "    Market Cap Dominance: {btc_data['market_cap_dominance']:.2f}%,\n",
        "    Last Updated: {btc_data['last_updated']}\n",
        "\n",
        "    Based on this data, analyze the recent market trend for Bitcoin (BTC) and provide insights on possible trading strategies.\n",
        "    \"\"\"\n",
        "\n",
        "    # Use OpenAI API to get the response\n",
        "    response = openai.chat.completions.create(\n",
        "        model=\"gpt-4o-mini\",\n",
        "        messages=[\n",
        "            {\"role\": \"system\", \"content\": \"You are a highly skilled BTC trading analyst.\"},\n",
        "            {\"role\": \"user\", \"content\": prompt_template}\n",
        "        ]\n",
        "    )\n",
        "\n",
        "    # Return the analysis\n",
        "    return response.choices[0].message\n",
        "\n",
        "# Example call to the function\n",
        "analysis = btc_market_analysis(\n",
        "   btc_analysis_data\n",
        ")\n",
        "\n",
        "display(Markdown(analysis.content))\n"
      ],
      "metadata": {
        "trusted": true,
        "execution": {
          "iopub.status.busy": "2024-11-21T10:38:28.079858Z",
          "iopub.execute_input": "2024-11-21T10:38:28.080336Z",
          "iopub.status.idle": "2024-11-21T10:38:38.86569Z",
          "shell.execute_reply.started": "2024-11-21T10:38:28.080295Z",
          "shell.execute_reply": "2024-11-21T10:38:38.864531Z"
        },
        "id": "ip-rBkjLGCHr",
        "outputId": "cfed4b7f-1864-4650-eb22-71a68dfc3bb0"
      },
      "outputs": [
        {
          "output_type": "display_data",
          "data": {
            "text/plain": "<IPython.core.display.Markdown object>",
            "text/markdown": "Based on the provided data for Bitcoin (BTC) as of November 21, 2024, we can derive insights about the current market trend and suggest potential trading strategies.\n\n### Market Overview:\n\n1. **Price Analysis**:\n   - Bitcoin is trading at **149,791.41 AUD**, which suggests a bullish sentiment considering the price's current level relative to previous months.\n   \n2. **Volume Information**:\n   - The **24h volume** stands at **139.78 billion AUD**, with an **18.80% increase** in volume over the past 24 hours. This increase indicates heightened trading activity, which is often associated with market movements and can signal investor interest or volatility.\n   \n3. **Price Changes**:\n   - The **1h percent change** is modest at **0.13%**, indicating relative stability in the short-term.\n   - A **24h percent change** of **4.40%** suggests a bullish trend over the past day.\n   - Over the **last 7 days**, the price has increased by **7.12%**, indicating a positive momentum or a recovering trend in the broader market.\n\n4. **Market Cap and Dominance**:\n   - With a **market cap of approximately 2.96 trillion AUD**, Bitcoin maintains a significant leading position in the market, holding a **dominance of 60.63%**. This illustrates that Bitcoin is still viewed as a predominant asset in the crypto space and has a strong investor base compared to altcoins.\n\n### Market Trend Analysis:\n\n- **Bullish Momentum**: The combination of rising price, increased trading volume, and positive percentage changes suggests that Bitcoin is experiencing a bullish trend. The market's enthusiasm could be driven by institutional interest, regulatory news, or macroeconomic factors favoring cryptocurrency.\n\n- **Stable Foundation**: The slight decline in 1h percent change alongside strong 24h and 7d increases could indicate a consolidation phase after a notable run-up. This balance might attract investors looking for a dip before further upward movement.\n\n### Trading Strategies:\n\n1. **Trend Following**:\n   - Given the bullish momentum, a trend-following strategy might be effective. Traders may consider entering long positions, particularly if price pulls back to a support level that has been established in recent weeks.\n   - Monitor moving averages (e.g., 50-day or 100-day) for potential crossovers indicating continuations in the trend.\n\n2. **Scalping**:\n   - Short-term traders could take advantage of the volatility and increased volume. Given the 24h volume change, scalping can be pursued by making small, quick trades to capitalize on minor price movements.\n\n3. **Accumulation During Dips**:\n   - If prices experience a short-term dip, traders could use this opportunity to accumulate BTC at a lower price, especially if it occurs above significant support levels.\n\n4. **Options for Hedging**:\n   - For those holding significant amounts of BTC, utilizing options or futures can be an effective way to hedge against potential downturns while still participating in upside movements.\n\n5. **Stay Updated**:\n   - Continuous monitoring of market sentiment, news, and technical indicators is essential. Tools like sentiment analysis from social media platforms can provide additional insight into potential market moves.\n\n### Conclusion:\n\nOverall, the recent market data for Bitcoin indicates a robust bullish trend with increasing interest and investment. Traders should consider leveraging this momentum while also employing risk management strategies to safeguard against potential volatility. Always stay informed and flexible, as market dynamics can shift rapidly."
          },
          "metadata": {}
        }
      ],
      "execution_count": null
    },
    {
      "cell_type": "code",
      "source": [
        "import openai\n",
        "\n",
        "def trading_decision_agent(news_report, market_report):\n",
        "\n",
        "    # Define the prompt template\n",
        "    prompt_template = f\"\"\"\n",
        "    You are an experienced BTC cryptocurrency trader, trying to maximize your overall profit by trading BTC.\n",
        "    In each day, you will make an action to buy or sell BTC. You will start with 1 million dollars, half in cash and half in BTC.\n",
        "    You are assisted by the following analysts:\n",
        "\n",
        "    News Analyst Report: {news_report}\n",
        "    Market Analyst Report: {market_report}\n",
        "    Reflection Analyst Report: Summarize the above reports, identify long-term trends, and conclude the final action.\n",
        "\n",
        "    Now, start your response with your brief reasoning over the given reports. Wisely select the useful information,\n",
        "    conclude a clear market trend, and pay more attention to long-term trends instead of short-term benefits.\n",
        "    Avoid being too conservative or changing strategies too rapidly. When the trend is upwards, suggest a positive\n",
        "    float value in the range of [0.1, 1] to buy BTC. When the trend is bearish, suggest a negative float value in the\n",
        "    range of [-1, -0.1] to sell BTC. A larger absolute value indicates higher confidence in your decision.\n",
        "    \"\"\"\n",
        "\n",
        "    # Use OpenAI API to get the response\n",
        "    response = openai.chat.completions.create(\n",
        "        model=\"gpt-4o-mini\",\n",
        "        messages=[\n",
        "            {\"role\": \"system\", \"content\": \"You are a highly skilled BTC trading analyst.\"},\n",
        "            {\"role\": \"user\", \"content\": prompt_template}\n",
        "        ]\n",
        "    )\n",
        "\n",
        "    # Return the trading decision\n",
        "    return response.choices[0].message\n",
        "\n"
      ],
      "metadata": {
        "trusted": true,
        "execution": {
          "iopub.status.busy": "2024-11-21T10:55:02.263936Z",
          "iopub.execute_input": "2024-11-21T10:55:02.264969Z",
          "iopub.status.idle": "2024-11-21T10:55:02.271754Z",
          "shell.execute_reply.started": "2024-11-21T10:55:02.264923Z",
          "shell.execute_reply": "2024-11-21T10:55:02.27051Z"
        },
        "id": "TQz7ID_NGCHr"
      },
      "outputs": [],
      "execution_count": null
    },
    {
      "cell_type": "code",
      "source": [
        "\n",
        "\n",
        "# Generate the trading decision\n",
        "trading_decision = trading_decision_agent(analysis.content, market_analysis.content)\n",
        "display(Markdown(trading_decision.content))\n"
      ],
      "metadata": {
        "trusted": true,
        "execution": {
          "iopub.status.busy": "2024-11-21T10:55:04.168536Z",
          "iopub.execute_input": "2024-11-21T10:55:04.168961Z",
          "iopub.status.idle": "2024-11-21T10:55:10.535955Z",
          "shell.execute_reply.started": "2024-11-21T10:55:04.168925Z",
          "shell.execute_reply": "2024-11-21T10:55:10.534831Z"
        },
        "id": "jp-Y4hdHGCHr",
        "outputId": "e9d313e3-5f0e-4689-9971-bbaeafe2c8d9"
      },
      "outputs": [
        {
          "output_type": "display_data",
          "data": {
            "text/plain": "<IPython.core.display.Markdown object>",
            "text/markdown": "The combined insights from the News Analyst, Market Analyst, and Reflection Analyst reports present a compelling outlook for Bitcoin (BTC) with a distinct bullish trend likely fueled by increased trading activity and significant political endorsements. As of November 21, 2024, Bitcoin has shown a consistent upward trajectory, breaking critical resistance levels, and approaching psychological price barriers such as $100,000. The analysis indicates that this momentum is supported by strong market sentiment, particularly influenced by positive news around political support for cryptocurrencies.\n\nKey indicators from the reports suggest the following:\n\n1. **Price Momentum**: Bitcoin's price is currently at AUD 149,791.41, indicating a strong recovery and upward momentum with a notable increase of 4.40% in the last 24 hours. The mention of hitting new all-time highs further emphasizes bullish sentiment.\n\n2. **Volume and Activity**: A significant increase in trading volume (18.80% over 24 hours) suggests robust interest among traders, which can lead to further price increases as investor sentiment remains high.\n\n3. **Political Endorsement and Sentiment**: The backing of Bitcoin by a prominent public figure has reignited investor interest and speculation, suggesting that positive regulatory shifts could be on the horizon, enhancing Bitcoin's appeal as a long-term investment.\n\n4. **Long-term Outlook**: While there may be short-term volatility and potential corrections, especially as Bitcoin approaches critical price levels, the overall sentiment points to a strong long-term potential for growth, especially if supportive policies emerge.\n\nGiven these observations, the market trend for Bitcoin is clearly bullish, suggesting that continuing to buy into the current market is prudent. Based on the analysis, now is an opportune moment to increase Bitcoin holdings while being mindful of potential volatility.\n\n### Final Action:\n**Buy BTC with a float value of 0.7.** \n\nThis recommendation reflects high confidence in the persistent bullish trend and positions the portfolio advantageously for potential upswings as Bitcoin approaches and possibly surpasses the $100,000 mark in the near term. Maintaining a proactive stance while monitoring market conditions will be essential to navigate any potential turbulence ahead."
          },
          "metadata": {}
        }
      ],
      "execution_count": null
    }
  ]
}